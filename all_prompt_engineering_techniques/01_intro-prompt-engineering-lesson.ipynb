{
 "cells": [
  {
   "cell_type": "markdown",
   "metadata": {},
   "source": [
    "# Introduction to Prompt Engineering Tutorial\n",
    "\n",
    "## Overview\n",
    "\n",
    "This tutorial provides a comprehensive introduction to the fundamental concepts of prompt engineering in the context of AI and language models. It is designed to give learners a solid foundation in understanding how to effectively communicate with and leverage large language models through carefully crafted prompts.\n",
    "\n",
    "## Motivation\n",
    "\n",
    "As AI language models become increasingly sophisticated and widely used, the ability to interact with them effectively becomes a crucial skill. Prompt engineering is the key to unlocking the full potential of these models, allowing users to guide AI outputs, improve response quality, and tackle complex tasks. This tutorial aims to equip learners with the essential knowledge and skills to begin their journey in prompt engineering.\n",
    "\n",
    "## Key Components\n",
    "\n",
    "The tutorial covers several key components of prompt engineering:\n",
    "\n",
    "1. **Basic Concepts**: An introduction to what prompt engineering is and why it's important.\n",
    "2. **Prompt Structures**: Exploration of different ways to structure prompts for various outcomes.\n",
    "3. **Importance of Prompt Engineering**: Discussion on how prompt engineering impacts AI model performance.\n",
    "4. **Role in AI and Language Models**: Examination of how prompt engineering fits into the broader context of AI applications.\n",
    "5. **Practical Examples**: Hands-on demonstrations of prompt engineering techniques.\n",
    "\n",
    "## Method Details\n",
    "\n",
    "The tutorial employs a mix of theoretical explanations and practical demonstrations to convey the concepts of prompt engineering:\n",
    "\n",
    "1. **Setup and Environment**: The lesson begins by setting up the necessary tools, including the OpenAI API and LangChain library. This provides a practical environment for experimenting with prompts.\n",
    "\n",
    "2. **Basic Concept Exploration**: Through simple examples, learners are introduced to how different prompts can yield varying responses from the AI model. This illustrates the fundamental principle of prompt engineering.\n",
    "\n",
    "3. **Structured Prompts**: The tutorial demonstrates how to create more complex, structured prompts using LangChain's PromptTemplate. This shows how to create reusable prompt structures with variable inputs.\n",
    "\n",
    "4. **Comparative Analysis**: By presenting multiple prompts on the same topic, the lesson highlights how subtle changes in prompt structure and wording can significantly affect the AI's output.\n",
    "\n",
    "5. **Problem-Solving Application**: The tutorial explores how prompt engineering can be applied to break down complex problems, guiding the AI through a step-by-step reasoning process.\n",
    "\n",
    "6. **Limitation Mitigation**: Examples are provided to show how careful prompt design can help overcome some limitations of AI models, such as improving factual accuracy.\n",
    "\n",
    "Throughout these methods, the tutorial emphasizes the importance of clarity, specificity, and thoughtful design in creating effective prompts.\n",
    "\n",
    "## Conclusion\n",
    "\n",
    "This introductory tutorial on prompt engineering lays the groundwork for understanding and applying this crucial skill in AI interactions. By the end of the lesson, learners will have gained:\n",
    "\n",
    "1. A clear understanding of what prompt engineering is and why it's important.\n",
    "2. Insight into how different prompt structures can influence AI outputs.\n",
    "3. Practical experience in crafting prompts for various purposes.\n",
    "4. Awareness of the role prompt engineering plays in enhancing AI model performance.\n",
    "5. A foundation for exploring more advanced prompt engineering techniques.\n",
    "\n",
    "The skills and knowledge gained from this tutorial will enable learners to more effectively harness the power of AI language models, setting the stage for more advanced applications and explorations in the field of artificial intelligence."
   ]
  },
  {
   "cell_type": "markdown",
   "metadata": {},
   "source": [
    "## Setup\n",
    "\n",
    "First, let's import the necessary libraries"
   ]
  },
  {
   "cell_type": "code",
   "execution_count": null,
   "metadata": {},
   "outputs": [],
   "source": [
    "import os\n",
    "from langchain_openai import ChatOpenAI\n",
    "from langchain.prompts import PromptTemplate\n",
    "\n",
    "from dotenv import load_dotenv\n",
    "load_dotenv()\n",
    "\n",
    "os.environ[\"OPENAI_API_KEY\"] = os.getenv('OPENAI_API_KEY') # OpenAI API key\n",
    "# Initialize the language model\n",
    "llm = ChatOpenAI(model=\"gpt-4o-mini\")"
   ]
  },
  {
   "cell_type": "markdown",
   "metadata": {},
   "source": [
    "## Basic Concepts and Importance\n",
    "\n",
    "Prompt engineering is the practice of designing and optimizing input prompts for language models to generate desired outputs. It's a crucial skill for effectively leveraging AI models in various applications.\n",
    "\n",
    "Let's explore the concept with a simple example:"
   ]
  },
  {
   "cell_type": "code",
   "execution_count": null,
   "metadata": {},
   "outputs": [],
   "source": [
    "basic_prompt = \"Explain the concept of prompt engineering in one sentence.\"\n",
    "print(llm.invoke(basic_prompt).content)"
   ]
  },
  {
   "cell_type": "markdown",
   "metadata": {},
   "source": [
    "Now, let's see how a more structured prompt can yield a more detailed response:"
   ]
  },
  {
   "cell_type": "code",
   "execution_count": null,
   "metadata": {},
   "outputs": [],
   "source": [
    "structured_prompt = PromptTemplate(\n",
    "    input_variables=[\"topic\"],\n",
    "    template=\"Provide a definition of {topic}, explain its importance, and list three key benefits.\"\n",
    ")\n",
    "\n",
    "chain = structured_prompt | llm # Combine the prompt template with the language model\n",
    "input_variables = {\"topic\": \"prompt engineering\"} # Define the input variables\n",
    "output = chain.invoke(input_variables).content # Invoke the chain with the input variables\n",
    "print(output)"
   ]
  },
  {
   "cell_type": "markdown",
   "metadata": {},
   "source": [
    "### Importance of Prompt Engineering\n",
    "\n",
    "Prompt engineering is important because it allows us to:\n",
    "1. Improve the quality and relevance of AI-generated outputs\n",
    "2. Guide language models to perform specific tasks more effectively\n",
    "3. Overcome limitations and biases in AI models\n",
    "4. Customize AI responses for different use cases and audiences\n",
    "\n",
    "Let's demonstrate how different prompts can lead to different outputs on the same topic:"
   ]
  },
  {
   "cell_type": "code",
   "execution_count": null,
   "metadata": {},
   "outputs": [],
   "source": [
    "prompts = [\n",
    "    \"List 3 applications of AI in healthcare.\",\n",
    "    \"Explain how AI is revolutionizing healthcare, with 3 specific examples.\",\n",
    "    \"You are a doctor. Describe 3 ways AI has improved your daily work in the hospital.\"\n",
    "]\n",
    "\n",
    "for i, prompt in enumerate(prompts, 1):\n",
    "    print(f\"\\nPrompt {i}:\")\n",
    "    print(prompt)\n",
    "    print(\"\\nResponse:\")\n",
    "    print(llm.invoke(prompt).content)\n",
    "    print(\"-\" * 50)"
   ]
  },
  {
   "cell_type": "markdown",
   "metadata": {},
   "source": [
    "## Role in AI and Language Models\n",
    "\n",
    "Prompt engineering plays a crucial role in enhancing the performance and applicability of AI and language models. It helps in:\n",
    "\n",
    "1. Tailoring model outputs to specific needs\n",
    "2. Improving the accuracy and relevance of responses\n",
    "3. Enabling complex task completion\n",
    "4. Reducing biases and improving fairness in AI outputs\n",
    "\n",
    "Let's explore how prompt engineering can help in overcoming some limitations of language models:"
   ]
  },
  {
   "cell_type": "code",
   "execution_count": null,
   "metadata": {},
   "outputs": [],
   "source": [
    "fact_check_prompt = PromptTemplate(\n",
    "    input_variables=[\"statement\"],\n",
    "    template=\"\"\"Evaluate the following statement for factual accuracy. If it's incorrect, provide the correct information:\n",
    "    Statement: {statement}\n",
    "    Evaluation:\"\"\"\n",
    ")\n",
    "\n",
    "chain = fact_check_prompt | llm\n",
    "print(chain.invoke(\"The capital of France is London.\").content)"
   ]
  },
  {
   "cell_type": "markdown",
   "metadata": {},
   "source": [
    "### Improving Complex Problem-Solving\n",
    "\n",
    "Prompt engineering can also help in breaking down complex problems and guiding the model through a step-by-step reasoning process:"
   ]
  },
  {
   "cell_type": "code",
   "execution_count": null,
   "metadata": {},
   "outputs": [],
   "source": [
    "problem_solving_prompt = PromptTemplate(\n",
    "    input_variables=[\"problem\"],\n",
    "    template=\"\"\"Solve the following problem step by step:\n",
    "    Problem: {problem}\n",
    "    Solution:\n",
    "    1)\"\"\"\n",
    ")\n",
    "\n",
    "chain = problem_solving_prompt | llm\n",
    "print(chain.invoke(\"Calculate the compound interest on $1000 invested for 5 years at an annual rate of 5%, compounded annually.\").content)"
   ]
  },
  {
   "cell_type": "code",
   "execution_count": null,
   "metadata": {},
   "outputs": [],
   "source": []
  }
 ],
 "metadata": {
  "kernelspec": {
   "display_name": "Python 3 (ipykernel)",
   "language": "python",
   "name": "python3"
  },
  "language_info": {
   "codemirror_mode": {
    "name": "ipython",
    "version": 3
   },
   "file_extension": ".py",
   "mimetype": "text/x-python",
   "name": "python",
   "nbconvert_exporter": "python",
   "pygments_lexer": "ipython3",
   "version": "3.12.7"
  }
 },
 "nbformat": 4,
 "nbformat_minor": 4
}
